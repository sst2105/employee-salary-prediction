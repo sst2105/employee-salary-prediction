{
  "nbformat": 4,
  "nbformat_minor": 0,
  "metadata": {
    "colab": {
      "provenance": [],
      "authorship_tag": "ABX9TyNdlPWZzucb7dEt4gy8TsUg",
      "include_colab_link": true
    },
    "kernelspec": {
      "name": "python3",
      "display_name": "Python 3"
    },
    "language_info": {
      "name": "python"
    }
  },
  "cells": [
    {
      "cell_type": "markdown",
      "metadata": {
        "id": "view-in-github",
        "colab_type": "text"
      },
      "source": [
        "<a href=\"https://colab.research.google.com/github/sst2105/employee-salary-prediction/blob/main/Employee_Salary_Prediction.ipynb\" target=\"_parent\"><img src=\"https://colab.research.google.com/assets/colab-badge.svg\" alt=\"Open In Colab\"/></a>"
      ]
    },
    {
      "cell_type": "code",
      "execution_count": 1,
      "metadata": {
        "colab": {
          "base_uri": "https://localhost:8080/"
        },
        "id": "lHKJZAsnjfef",
        "outputId": "13b75627-a146-40da-b9c1-0de75488379c"
      },
      "outputs": [
        {
          "output_type": "stream",
          "name": "stdout",
          "text": [
            "\u001b[2K     \u001b[90m━━━━━━━━━━━━━━━━━━━━━━━━━━━━━━━━━━━━━━━━\u001b[0m \u001b[32m44.3/44.3 kB\u001b[0m \u001b[31m2.1 MB/s\u001b[0m eta \u001b[36m0:00:00\u001b[0m\n",
            "\u001b[2K   \u001b[90m━━━━━━━━━━━━━━━━━━━━━━━━━━━━━━━━━━━━━━━━\u001b[0m \u001b[32m9.9/9.9 MB\u001b[0m \u001b[31m38.6 MB/s\u001b[0m eta \u001b[36m0:00:00\u001b[0m\n",
            "\u001b[2K   \u001b[90m━━━━━━━━━━━━━━━━━━━━━━━━━━━━━━━━━━━━━━━━\u001b[0m \u001b[32m6.9/6.9 MB\u001b[0m \u001b[31m67.0 MB/s\u001b[0m eta \u001b[36m0:00:00\u001b[0m\n",
            "\u001b[2K   \u001b[90m━━━━━━━━━━━━━━━━━━━━━━━━━━━━━━━━━━━━━━━━\u001b[0m \u001b[32m79.1/79.1 kB\u001b[0m \u001b[31m3.9 MB/s\u001b[0m eta \u001b[36m0:00:00\u001b[0m\n",
            "\u001b[?25h"
          ]
        }
      ],
      "source": [
        "!pip install streamlit pyngrok -q"
      ]
    },
    {
      "cell_type": "code",
      "source": [
        "import pandas as pd\n",
        "import numpy as np\n",
        "import matplotlib.pyplot as plt\n",
        "import seaborn as sns\n",
        "from sklearn.model_selection import train_test_split\n",
        "from sklearn.preprocessing import StandardScaler, LabelEncoder\n",
        "from sklearn.linear_model import LogisticRegression\n",
        "from sklearn.ensemble import RandomForestClassifier, GradientBoostingClassifier\n",
        "from sklearn.neighbors import KNeighborsClassifier\n",
        "from sklearn.svm import SVC\n",
        "from sklearn.metrics import accuracy_score, classification_report, confusion_matrix\n",
        "import joblib\n",
        "import warnings\n",
        "warnings.filterwarnings('ignore')\n",
        "\n",
        "print(\"✅ All libraries imported successfully!\")"
      ],
      "metadata": {
        "colab": {
          "base_uri": "https://localhost:8080/"
        },
        "id": "Kf51VJ6yjleI",
        "outputId": "3d381e4c-654d-42b3-b900-b6c98eb011c4"
      },
      "execution_count": 2,
      "outputs": [
        {
          "output_type": "stream",
          "name": "stdout",
          "text": [
            "✅ All libraries imported successfully!\n"
          ]
        }
      ]
    },
    {
      "cell_type": "code",
      "source": [],
      "metadata": {
        "id": "MRhgqcrlbgVi"
      },
      "execution_count": null,
      "outputs": []
    },
    {
      "cell_type": "code",
      "source": [
        "data = pd.read_csv(\"/content/adult 3.csv\")"
      ],
      "metadata": {
        "id": "zfm5LZJKY8N-"
      },
      "execution_count": 3,
      "outputs": []
    },
    {
      "cell_type": "code",
      "source": [
        "print(\"📊 Dataset Information:\")\n",
        "print(f\"Shape: {data.shape}\")\n",
        "print(f\"Columns: {list(data.columns)}\")\n",
        "print(\"\\n🔍 First 5 rows:\")\n",
        "data.head()\n"
      ],
      "metadata": {
        "colab": {
          "base_uri": "https://localhost:8080/",
          "height": 417
        },
        "id": "22I4XlJHaDpW",
        "outputId": "c19996f4-a40c-4168-c518-f22651574a8b"
      },
      "execution_count": 4,
      "outputs": [
        {
          "output_type": "stream",
          "name": "stdout",
          "text": [
            "📊 Dataset Information:\n",
            "Shape: (48842, 15)\n",
            "Columns: ['age', 'workclass', 'fnlwgt', 'education', 'educational-num', 'marital-status', 'occupation', 'relationship', 'race', 'gender', 'capital-gain', 'capital-loss', 'hours-per-week', 'native-country', 'income']\n",
            "\n",
            "🔍 First 5 rows:\n"
          ]
        },
        {
          "output_type": "execute_result",
          "data": {
            "text/plain": [
              "   age  workclass  fnlwgt     education  educational-num      marital-status  \\\n",
              "0   25    Private  226802          11th                7       Never-married   \n",
              "1   38    Private   89814       HS-grad                9  Married-civ-spouse   \n",
              "2   28  Local-gov  336951    Assoc-acdm               12  Married-civ-spouse   \n",
              "3   44    Private  160323  Some-college               10  Married-civ-spouse   \n",
              "4   18          ?  103497  Some-college               10       Never-married   \n",
              "\n",
              "          occupation relationship   race  gender  capital-gain  capital-loss  \\\n",
              "0  Machine-op-inspct    Own-child  Black    Male             0             0   \n",
              "1    Farming-fishing      Husband  White    Male             0             0   \n",
              "2    Protective-serv      Husband  White    Male             0             0   \n",
              "3  Machine-op-inspct      Husband  Black    Male          7688             0   \n",
              "4                  ?    Own-child  White  Female             0             0   \n",
              "\n",
              "   hours-per-week native-country income  \n",
              "0              40  United-States  <=50K  \n",
              "1              50  United-States  <=50K  \n",
              "2              40  United-States   >50K  \n",
              "3              40  United-States   >50K  \n",
              "4              30  United-States  <=50K  "
            ],
            "text/html": [
              "\n",
              "  <div id=\"df-57e9ec0a-0c64-433f-8fa2-b91acbcf9a63\" class=\"colab-df-container\">\n",
              "    <div>\n",
              "<style scoped>\n",
              "    .dataframe tbody tr th:only-of-type {\n",
              "        vertical-align: middle;\n",
              "    }\n",
              "\n",
              "    .dataframe tbody tr th {\n",
              "        vertical-align: top;\n",
              "    }\n",
              "\n",
              "    .dataframe thead th {\n",
              "        text-align: right;\n",
              "    }\n",
              "</style>\n",
              "<table border=\"1\" class=\"dataframe\">\n",
              "  <thead>\n",
              "    <tr style=\"text-align: right;\">\n",
              "      <th></th>\n",
              "      <th>age</th>\n",
              "      <th>workclass</th>\n",
              "      <th>fnlwgt</th>\n",
              "      <th>education</th>\n",
              "      <th>educational-num</th>\n",
              "      <th>marital-status</th>\n",
              "      <th>occupation</th>\n",
              "      <th>relationship</th>\n",
              "      <th>race</th>\n",
              "      <th>gender</th>\n",
              "      <th>capital-gain</th>\n",
              "      <th>capital-loss</th>\n",
              "      <th>hours-per-week</th>\n",
              "      <th>native-country</th>\n",
              "      <th>income</th>\n",
              "    </tr>\n",
              "  </thead>\n",
              "  <tbody>\n",
              "    <tr>\n",
              "      <th>0</th>\n",
              "      <td>25</td>\n",
              "      <td>Private</td>\n",
              "      <td>226802</td>\n",
              "      <td>11th</td>\n",
              "      <td>7</td>\n",
              "      <td>Never-married</td>\n",
              "      <td>Machine-op-inspct</td>\n",
              "      <td>Own-child</td>\n",
              "      <td>Black</td>\n",
              "      <td>Male</td>\n",
              "      <td>0</td>\n",
              "      <td>0</td>\n",
              "      <td>40</td>\n",
              "      <td>United-States</td>\n",
              "      <td>&lt;=50K</td>\n",
              "    </tr>\n",
              "    <tr>\n",
              "      <th>1</th>\n",
              "      <td>38</td>\n",
              "      <td>Private</td>\n",
              "      <td>89814</td>\n",
              "      <td>HS-grad</td>\n",
              "      <td>9</td>\n",
              "      <td>Married-civ-spouse</td>\n",
              "      <td>Farming-fishing</td>\n",
              "      <td>Husband</td>\n",
              "      <td>White</td>\n",
              "      <td>Male</td>\n",
              "      <td>0</td>\n",
              "      <td>0</td>\n",
              "      <td>50</td>\n",
              "      <td>United-States</td>\n",
              "      <td>&lt;=50K</td>\n",
              "    </tr>\n",
              "    <tr>\n",
              "      <th>2</th>\n",
              "      <td>28</td>\n",
              "      <td>Local-gov</td>\n",
              "      <td>336951</td>\n",
              "      <td>Assoc-acdm</td>\n",
              "      <td>12</td>\n",
              "      <td>Married-civ-spouse</td>\n",
              "      <td>Protective-serv</td>\n",
              "      <td>Husband</td>\n",
              "      <td>White</td>\n",
              "      <td>Male</td>\n",
              "      <td>0</td>\n",
              "      <td>0</td>\n",
              "      <td>40</td>\n",
              "      <td>United-States</td>\n",
              "      <td>&gt;50K</td>\n",
              "    </tr>\n",
              "    <tr>\n",
              "      <th>3</th>\n",
              "      <td>44</td>\n",
              "      <td>Private</td>\n",
              "      <td>160323</td>\n",
              "      <td>Some-college</td>\n",
              "      <td>10</td>\n",
              "      <td>Married-civ-spouse</td>\n",
              "      <td>Machine-op-inspct</td>\n",
              "      <td>Husband</td>\n",
              "      <td>Black</td>\n",
              "      <td>Male</td>\n",
              "      <td>7688</td>\n",
              "      <td>0</td>\n",
              "      <td>40</td>\n",
              "      <td>United-States</td>\n",
              "      <td>&gt;50K</td>\n",
              "    </tr>\n",
              "    <tr>\n",
              "      <th>4</th>\n",
              "      <td>18</td>\n",
              "      <td>?</td>\n",
              "      <td>103497</td>\n",
              "      <td>Some-college</td>\n",
              "      <td>10</td>\n",
              "      <td>Never-married</td>\n",
              "      <td>?</td>\n",
              "      <td>Own-child</td>\n",
              "      <td>White</td>\n",
              "      <td>Female</td>\n",
              "      <td>0</td>\n",
              "      <td>0</td>\n",
              "      <td>30</td>\n",
              "      <td>United-States</td>\n",
              "      <td>&lt;=50K</td>\n",
              "    </tr>\n",
              "  </tbody>\n",
              "</table>\n",
              "</div>\n",
              "    <div class=\"colab-df-buttons\">\n",
              "\n",
              "  <div class=\"colab-df-container\">\n",
              "    <button class=\"colab-df-convert\" onclick=\"convertToInteractive('df-57e9ec0a-0c64-433f-8fa2-b91acbcf9a63')\"\n",
              "            title=\"Convert this dataframe to an interactive table.\"\n",
              "            style=\"display:none;\">\n",
              "\n",
              "  <svg xmlns=\"http://www.w3.org/2000/svg\" height=\"24px\" viewBox=\"0 -960 960 960\">\n",
              "    <path d=\"M120-120v-720h720v720H120Zm60-500h600v-160H180v160Zm220 220h160v-160H400v160Zm0 220h160v-160H400v160ZM180-400h160v-160H180v160Zm440 0h160v-160H620v160ZM180-180h160v-160H180v160Zm440 0h160v-160H620v160Z\"/>\n",
              "  </svg>\n",
              "    </button>\n",
              "\n",
              "  <style>\n",
              "    .colab-df-container {\n",
              "      display:flex;\n",
              "      gap: 12px;\n",
              "    }\n",
              "\n",
              "    .colab-df-convert {\n",
              "      background-color: #E8F0FE;\n",
              "      border: none;\n",
              "      border-radius: 50%;\n",
              "      cursor: pointer;\n",
              "      display: none;\n",
              "      fill: #1967D2;\n",
              "      height: 32px;\n",
              "      padding: 0 0 0 0;\n",
              "      width: 32px;\n",
              "    }\n",
              "\n",
              "    .colab-df-convert:hover {\n",
              "      background-color: #E2EBFA;\n",
              "      box-shadow: 0px 1px 2px rgba(60, 64, 67, 0.3), 0px 1px 3px 1px rgba(60, 64, 67, 0.15);\n",
              "      fill: #174EA6;\n",
              "    }\n",
              "\n",
              "    .colab-df-buttons div {\n",
              "      margin-bottom: 4px;\n",
              "    }\n",
              "\n",
              "    [theme=dark] .colab-df-convert {\n",
              "      background-color: #3B4455;\n",
              "      fill: #D2E3FC;\n",
              "    }\n",
              "\n",
              "    [theme=dark] .colab-df-convert:hover {\n",
              "      background-color: #434B5C;\n",
              "      box-shadow: 0px 1px 3px 1px rgba(0, 0, 0, 0.15);\n",
              "      filter: drop-shadow(0px 1px 2px rgba(0, 0, 0, 0.3));\n",
              "      fill: #FFFFFF;\n",
              "    }\n",
              "  </style>\n",
              "\n",
              "    <script>\n",
              "      const buttonEl =\n",
              "        document.querySelector('#df-57e9ec0a-0c64-433f-8fa2-b91acbcf9a63 button.colab-df-convert');\n",
              "      buttonEl.style.display =\n",
              "        google.colab.kernel.accessAllowed ? 'block' : 'none';\n",
              "\n",
              "      async function convertToInteractive(key) {\n",
              "        const element = document.querySelector('#df-57e9ec0a-0c64-433f-8fa2-b91acbcf9a63');\n",
              "        const dataTable =\n",
              "          await google.colab.kernel.invokeFunction('convertToInteractive',\n",
              "                                                    [key], {});\n",
              "        if (!dataTable) return;\n",
              "\n",
              "        const docLinkHtml = 'Like what you see? Visit the ' +\n",
              "          '<a target=\"_blank\" href=https://colab.research.google.com/notebooks/data_table.ipynb>data table notebook</a>'\n",
              "          + ' to learn more about interactive tables.';\n",
              "        element.innerHTML = '';\n",
              "        dataTable['output_type'] = 'display_data';\n",
              "        await google.colab.output.renderOutput(dataTable, element);\n",
              "        const docLink = document.createElement('div');\n",
              "        docLink.innerHTML = docLinkHtml;\n",
              "        element.appendChild(docLink);\n",
              "      }\n",
              "    </script>\n",
              "  </div>\n",
              "\n",
              "\n",
              "    <div id=\"df-b8156ca4-1097-4f5e-bd9b-264a74c80ae1\">\n",
              "      <button class=\"colab-df-quickchart\" onclick=\"quickchart('df-b8156ca4-1097-4f5e-bd9b-264a74c80ae1')\"\n",
              "                title=\"Suggest charts\"\n",
              "                style=\"display:none;\">\n",
              "\n",
              "<svg xmlns=\"http://www.w3.org/2000/svg\" height=\"24px\"viewBox=\"0 0 24 24\"\n",
              "     width=\"24px\">\n",
              "    <g>\n",
              "        <path d=\"M19 3H5c-1.1 0-2 .9-2 2v14c0 1.1.9 2 2 2h14c1.1 0 2-.9 2-2V5c0-1.1-.9-2-2-2zM9 17H7v-7h2v7zm4 0h-2V7h2v10zm4 0h-2v-4h2v4z\"/>\n",
              "    </g>\n",
              "</svg>\n",
              "      </button>\n",
              "\n",
              "<style>\n",
              "  .colab-df-quickchart {\n",
              "      --bg-color: #E8F0FE;\n",
              "      --fill-color: #1967D2;\n",
              "      --hover-bg-color: #E2EBFA;\n",
              "      --hover-fill-color: #174EA6;\n",
              "      --disabled-fill-color: #AAA;\n",
              "      --disabled-bg-color: #DDD;\n",
              "  }\n",
              "\n",
              "  [theme=dark] .colab-df-quickchart {\n",
              "      --bg-color: #3B4455;\n",
              "      --fill-color: #D2E3FC;\n",
              "      --hover-bg-color: #434B5C;\n",
              "      --hover-fill-color: #FFFFFF;\n",
              "      --disabled-bg-color: #3B4455;\n",
              "      --disabled-fill-color: #666;\n",
              "  }\n",
              "\n",
              "  .colab-df-quickchart {\n",
              "    background-color: var(--bg-color);\n",
              "    border: none;\n",
              "    border-radius: 50%;\n",
              "    cursor: pointer;\n",
              "    display: none;\n",
              "    fill: var(--fill-color);\n",
              "    height: 32px;\n",
              "    padding: 0;\n",
              "    width: 32px;\n",
              "  }\n",
              "\n",
              "  .colab-df-quickchart:hover {\n",
              "    background-color: var(--hover-bg-color);\n",
              "    box-shadow: 0 1px 2px rgba(60, 64, 67, 0.3), 0 1px 3px 1px rgba(60, 64, 67, 0.15);\n",
              "    fill: var(--button-hover-fill-color);\n",
              "  }\n",
              "\n",
              "  .colab-df-quickchart-complete:disabled,\n",
              "  .colab-df-quickchart-complete:disabled:hover {\n",
              "    background-color: var(--disabled-bg-color);\n",
              "    fill: var(--disabled-fill-color);\n",
              "    box-shadow: none;\n",
              "  }\n",
              "\n",
              "  .colab-df-spinner {\n",
              "    border: 2px solid var(--fill-color);\n",
              "    border-color: transparent;\n",
              "    border-bottom-color: var(--fill-color);\n",
              "    animation:\n",
              "      spin 1s steps(1) infinite;\n",
              "  }\n",
              "\n",
              "  @keyframes spin {\n",
              "    0% {\n",
              "      border-color: transparent;\n",
              "      border-bottom-color: var(--fill-color);\n",
              "      border-left-color: var(--fill-color);\n",
              "    }\n",
              "    20% {\n",
              "      border-color: transparent;\n",
              "      border-left-color: var(--fill-color);\n",
              "      border-top-color: var(--fill-color);\n",
              "    }\n",
              "    30% {\n",
              "      border-color: transparent;\n",
              "      border-left-color: var(--fill-color);\n",
              "      border-top-color: var(--fill-color);\n",
              "      border-right-color: var(--fill-color);\n",
              "    }\n",
              "    40% {\n",
              "      border-color: transparent;\n",
              "      border-right-color: var(--fill-color);\n",
              "      border-top-color: var(--fill-color);\n",
              "    }\n",
              "    60% {\n",
              "      border-color: transparent;\n",
              "      border-right-color: var(--fill-color);\n",
              "    }\n",
              "    80% {\n",
              "      border-color: transparent;\n",
              "      border-right-color: var(--fill-color);\n",
              "      border-bottom-color: var(--fill-color);\n",
              "    }\n",
              "    90% {\n",
              "      border-color: transparent;\n",
              "      border-bottom-color: var(--fill-color);\n",
              "    }\n",
              "  }\n",
              "</style>\n",
              "\n",
              "      <script>\n",
              "        async function quickchart(key) {\n",
              "          const quickchartButtonEl =\n",
              "            document.querySelector('#' + key + ' button');\n",
              "          quickchartButtonEl.disabled = true;  // To prevent multiple clicks.\n",
              "          quickchartButtonEl.classList.add('colab-df-spinner');\n",
              "          try {\n",
              "            const charts = await google.colab.kernel.invokeFunction(\n",
              "                'suggestCharts', [key], {});\n",
              "          } catch (error) {\n",
              "            console.error('Error during call to suggestCharts:', error);\n",
              "          }\n",
              "          quickchartButtonEl.classList.remove('colab-df-spinner');\n",
              "          quickchartButtonEl.classList.add('colab-df-quickchart-complete');\n",
              "        }\n",
              "        (() => {\n",
              "          let quickchartButtonEl =\n",
              "            document.querySelector('#df-b8156ca4-1097-4f5e-bd9b-264a74c80ae1 button');\n",
              "          quickchartButtonEl.style.display =\n",
              "            google.colab.kernel.accessAllowed ? 'block' : 'none';\n",
              "        })();\n",
              "      </script>\n",
              "    </div>\n",
              "\n",
              "    </div>\n",
              "  </div>\n"
            ],
            "application/vnd.google.colaboratory.intrinsic+json": {
              "type": "dataframe",
              "variable_name": "data",
              "summary": "{\n  \"name\": \"data\",\n  \"rows\": 48842,\n  \"fields\": [\n    {\n      \"column\": \"age\",\n      \"properties\": {\n        \"dtype\": \"number\",\n        \"std\": 13,\n        \"min\": 17,\n        \"max\": 90,\n        \"num_unique_values\": 74,\n        \"samples\": [\n          18,\n          74,\n          40\n        ],\n        \"semantic_type\": \"\",\n        \"description\": \"\"\n      }\n    },\n    {\n      \"column\": \"workclass\",\n      \"properties\": {\n        \"dtype\": \"category\",\n        \"num_unique_values\": 9,\n        \"samples\": [\n          \"Without-pay\",\n          \"Local-gov\",\n          \"State-gov\"\n        ],\n        \"semantic_type\": \"\",\n        \"description\": \"\"\n      }\n    },\n    {\n      \"column\": \"fnlwgt\",\n      \"properties\": {\n        \"dtype\": \"number\",\n        \"std\": 105604,\n        \"min\": 12285,\n        \"max\": 1490400,\n        \"num_unique_values\": 28523,\n        \"samples\": [\n          171041,\n          20296,\n          263896\n        ],\n        \"semantic_type\": \"\",\n        \"description\": \"\"\n      }\n    },\n    {\n      \"column\": \"education\",\n      \"properties\": {\n        \"dtype\": \"category\",\n        \"num_unique_values\": 16,\n        \"samples\": [\n          \"11th\",\n          \"HS-grad\",\n          \"Prof-school\"\n        ],\n        \"semantic_type\": \"\",\n        \"description\": \"\"\n      }\n    },\n    {\n      \"column\": \"educational-num\",\n      \"properties\": {\n        \"dtype\": \"number\",\n        \"std\": 2,\n        \"min\": 1,\n        \"max\": 16,\n        \"num_unique_values\": 16,\n        \"samples\": [\n          7,\n          9,\n          15\n        ],\n        \"semantic_type\": \"\",\n        \"description\": \"\"\n      }\n    },\n    {\n      \"column\": \"marital-status\",\n      \"properties\": {\n        \"dtype\": \"category\",\n        \"num_unique_values\": 7,\n        \"samples\": [\n          \"Never-married\",\n          \"Married-civ-spouse\",\n          \"Married-spouse-absent\"\n        ],\n        \"semantic_type\": \"\",\n        \"description\": \"\"\n      }\n    },\n    {\n      \"column\": \"occupation\",\n      \"properties\": {\n        \"dtype\": \"category\",\n        \"num_unique_values\": 15,\n        \"samples\": [\n          \"Tech-support\",\n          \"Priv-house-serv\",\n          \"Machine-op-inspct\"\n        ],\n        \"semantic_type\": \"\",\n        \"description\": \"\"\n      }\n    },\n    {\n      \"column\": \"relationship\",\n      \"properties\": {\n        \"dtype\": \"category\",\n        \"num_unique_values\": 6,\n        \"samples\": [\n          \"Own-child\",\n          \"Husband\",\n          \"Other-relative\"\n        ],\n        \"semantic_type\": \"\",\n        \"description\": \"\"\n      }\n    },\n    {\n      \"column\": \"race\",\n      \"properties\": {\n        \"dtype\": \"category\",\n        \"num_unique_values\": 5,\n        \"samples\": [\n          \"White\",\n          \"Amer-Indian-Eskimo\",\n          \"Asian-Pac-Islander\"\n        ],\n        \"semantic_type\": \"\",\n        \"description\": \"\"\n      }\n    },\n    {\n      \"column\": \"gender\",\n      \"properties\": {\n        \"dtype\": \"category\",\n        \"num_unique_values\": 2,\n        \"samples\": [\n          \"Female\",\n          \"Male\"\n        ],\n        \"semantic_type\": \"\",\n        \"description\": \"\"\n      }\n    },\n    {\n      \"column\": \"capital-gain\",\n      \"properties\": {\n        \"dtype\": \"number\",\n        \"std\": 7452,\n        \"min\": 0,\n        \"max\": 99999,\n        \"num_unique_values\": 123,\n        \"samples\": [\n          4064,\n          4787\n        ],\n        \"semantic_type\": \"\",\n        \"description\": \"\"\n      }\n    },\n    {\n      \"column\": \"capital-loss\",\n      \"properties\": {\n        \"dtype\": \"number\",\n        \"std\": 403,\n        \"min\": 0,\n        \"max\": 4356,\n        \"num_unique_values\": 99,\n        \"samples\": [\n          2238,\n          1564\n        ],\n        \"semantic_type\": \"\",\n        \"description\": \"\"\n      }\n    },\n    {\n      \"column\": \"hours-per-week\",\n      \"properties\": {\n        \"dtype\": \"number\",\n        \"std\": 12,\n        \"min\": 1,\n        \"max\": 99,\n        \"num_unique_values\": 96,\n        \"samples\": [\n          9,\n          11\n        ],\n        \"semantic_type\": \"\",\n        \"description\": \"\"\n      }\n    },\n    {\n      \"column\": \"native-country\",\n      \"properties\": {\n        \"dtype\": \"category\",\n        \"num_unique_values\": 42,\n        \"samples\": [\n          \"Canada\",\n          \"Vietnam\"\n        ],\n        \"semantic_type\": \"\",\n        \"description\": \"\"\n      }\n    },\n    {\n      \"column\": \"income\",\n      \"properties\": {\n        \"dtype\": \"category\",\n        \"num_unique_values\": 2,\n        \"samples\": [\n          \">50K\",\n          \"<=50K\"\n        ],\n        \"semantic_type\": \"\",\n        \"description\": \"\"\n      }\n    }\n  ]\n}"
            }
          },
          "metadata": {},
          "execution_count": 4
        }
      ]
    },
    {
      "cell_type": "code",
      "source": [
        "for column in data.columns:\n",
        "    if data[column].dtype == 'object':\n",
        "        data[column] = data[column].replace('?', 'Others')"
      ],
      "metadata": {
        "id": "8p063yuwaI-G"
      },
      "execution_count": 5,
      "outputs": []
    },
    {
      "cell_type": "code",
      "source": [
        "if 'fnlwgt' in data.columns:\n",
        "    data = data.drop('fnlwgt', axis=1)  # Not needed for prediction\n",
        "\n",
        "# Remove rows with very low education levels (optional cleaning)\n",
        "if 'education' in data.columns:\n",
        "    data = data[~data['education'].isin(['1st-4th', '5th-6th', 'Preschool'])]\n",
        "\n",
        "# Remove non-working categories from workclass\n",
        "if 'workclass' in data.columns:\n",
        "    data = data[~data['workclass'].isin(['Without-pay', 'Never-worked'])]\n",
        "\n",
        "print(f\"✅ After cleaning: {data.shape}\")"
      ],
      "metadata": {
        "colab": {
          "base_uri": "https://localhost:8080/"
        },
        "id": "N8Fge6QuaPw_",
        "outputId": "4deba1ca-99cb-4cb0-cb42-ab5c3dc6457b"
      },
      "execution_count": 6,
      "outputs": [
        {
          "output_type": "stream",
          "name": "stdout",
          "text": [
            "✅ After cleaning: (47972, 14)\n"
          ]
        }
      ]
    },
    {
      "cell_type": "code",
      "source": [
        "print(\"\\n💰 Income Distribution:\")\n",
        "print(data['income'].value_counts())"
      ],
      "metadata": {
        "colab": {
          "base_uri": "https://localhost:8080/"
        },
        "id": "8bIOesKCaUGF",
        "outputId": "727ea86a-7cc8-409a-a1c1-d50385a043ee"
      },
      "execution_count": 7,
      "outputs": [
        {
          "output_type": "stream",
          "name": "stdout",
          "text": [
            "\n",
            "💰 Income Distribution:\n",
            "income\n",
            "<=50K    36323\n",
            ">50K     11649\n",
            "Name: count, dtype: int64\n"
          ]
        }
      ]
    },
    {
      "cell_type": "code",
      "source": [
        "data_original = data.copy()\n",
        "\n",
        "categorical_columns = data.select_dtypes(include=['object']).columns.tolist()\n",
        "categorical_columns.remove('income')\n",
        "\n",
        "label_encoders = {}\n",
        "for column in categorical_columns:\n",
        "    le = LabelEncoder()\n",
        "    data[column] = le.fit_transform(data[column].astype(str))\n",
        "    label_encoders[column] = le\n",
        "    print(f\"✅ Encoded: {column}\")\n",
        "\n",
        "\n",
        "target_encoder = LabelEncoder()\n",
        "data['income'] = target_encoder.fit_transform(data['income'])\n",
        "\n",
        "print(\"✅ All categorical variables encoded!\")"
      ],
      "metadata": {
        "colab": {
          "base_uri": "https://localhost:8080/"
        },
        "id": "KhekiB4FaYOu",
        "outputId": "05ff1e97-11e2-43b9-a600-2b08166408e8"
      },
      "execution_count": 8,
      "outputs": [
        {
          "output_type": "stream",
          "name": "stdout",
          "text": [
            "✅ Encoded: workclass\n",
            "✅ Encoded: education\n",
            "✅ Encoded: marital-status\n",
            "✅ Encoded: occupation\n",
            "✅ Encoded: relationship\n",
            "✅ Encoded: race\n",
            "✅ Encoded: gender\n",
            "✅ Encoded: native-country\n",
            "✅ All categorical variables encoded!\n"
          ]
        }
      ]
    },
    {
      "cell_type": "code",
      "source": [
        "X = data.drop('income', axis=1)\n",
        "y = data['income']\n",
        "\n",
        "# Scale features\n",
        "scaler = StandardScaler()\n",
        "X_scaled = scaler.fit_transform(X)\n",
        "\n",
        "print(f\"✅ Features prepared: {X.shape}\")\n",
        "print(f\"✅ Target prepared: {y.shape}\")\n"
      ],
      "metadata": {
        "colab": {
          "base_uri": "https://localhost:8080/"
        },
        "id": "Po_Q3qrrafoG",
        "outputId": "c57d00c5-a5a5-4425-d597-039f8760ca78"
      },
      "execution_count": 9,
      "outputs": [
        {
          "output_type": "stream",
          "name": "stdout",
          "text": [
            "✅ Features prepared: (47972, 13)\n",
            "✅ Target prepared: (47972,)\n"
          ]
        }
      ]
    },
    {
      "cell_type": "code",
      "source": [
        "X_train, X_test, y_train, y_test = train_test_split(\n",
        "    X_scaled, y, test_size=0.2, random_state=42, stratify=y\n",
        ")\n",
        "\n",
        "print(f\"✅ Training set: {X_train.shape}\")\n",
        "print(f\"✅ Testing set: {X_test.shape}\")"
      ],
      "metadata": {
        "colab": {
          "base_uri": "https://localhost:8080/"
        },
        "id": "3asE3xw9ajMG",
        "outputId": "ea88a263-7845-4526-944b-7f3cf7cb49c1"
      },
      "execution_count": 10,
      "outputs": [
        {
          "output_type": "stream",
          "name": "stdout",
          "text": [
            "✅ Training set: (38377, 13)\n",
            "✅ Testing set: (9595, 13)\n"
          ]
        }
      ]
    },
    {
      "cell_type": "code",
      "source": [],
      "metadata": {
        "id": "q4m-fr0KbhrE"
      },
      "execution_count": null,
      "outputs": []
    },
    {
      "cell_type": "code",
      "source": [
        "models = {\n",
        "    'Logistic Regression': LogisticRegression(random_state=42, max_iter=1000),\n",
        "    'Random Forest': RandomForestClassifier(n_estimators=100, random_state=42),\n",
        "    'KNN': KNeighborsClassifier(n_neighbors=5),\n",
        "    'SVM': SVC(random_state=42),\n",
        "    'Gradient Boosting': GradientBoostingClassifier(random_state=42)\n",
        "}\n",
        "\n",
        "results = {}\n",
        "for name, model in models.items():\n",
        "    print(f\"Training {name}...\")\n",
        "    model.fit(X_train, y_train)\n",
        "    y_pred = model.predict(X_test)\n",
        "    accuracy = accuracy_score(y_test, y_pred)\n",
        "    results[name] = {\n",
        "        'model': model,\n",
        "        'accuracy': accuracy,\n",
        "        'y_pred': y_pred\n",
        "    }\n",
        "\n",
        "    print(f\"✅ {name}: {accuracy:.4f}\")\n",
        "\n",
        "print(\"\\n🏆 Model Training Complete!\")"
      ],
      "metadata": {
        "colab": {
          "base_uri": "https://localhost:8080/"
        },
        "id": "aa9jZsGebqXn",
        "outputId": "f005e218-12ee-4f17-d841-d24e329e80c5"
      },
      "execution_count": 12,
      "outputs": [
        {
          "output_type": "stream",
          "name": "stdout",
          "text": [
            "Training Logistic Regression...\n",
            "✅ Logistic Regression: 0.8230\n",
            "Training Random Forest...\n",
            "✅ Random Forest: 0.8418\n",
            "Training KNN...\n",
            "✅ KNN: 0.8275\n",
            "Training SVM...\n",
            "✅ SVM: 0.8478\n",
            "Training Gradient Boosting...\n",
            "✅ Gradient Boosting: 0.8618\n",
            "\n",
            "🏆 Model Training Complete!\n"
          ]
        }
      ]
    },
    {
      "cell_type": "code",
      "source": [
        "print(\"\\n📊 MODEL COMPARISON RESULTS:\")\n",
        "print(\"=\"*50)\n",
        "\n",
        "# Sort models by accuracy\n",
        "sorted_results = sorted(results.items(), key=lambda x: x[1]['accuracy'], reverse=True)\n",
        "\n",
        "comparison_data = []\n",
        "for name, result in sorted_results:\n",
        "    comparison_data.append({\n",
        "        'Model': name,\n",
        "        'Accuracy': f\"{result['accuracy']:.4f}\",\n",
        "        'Percentage': f\"{result['accuracy']*100:.2f}%\"\n",
        "    })\n",
        "    print(f\"{name:20}: {result['accuracy']:.4f} ({result['accuracy']*100:.2f}%)\")\n",
        "\n",
        "# Best model\n",
        "best_model_name = sorted_results[0][0]\n",
        "best_model = results[best_model_name]['model']\n",
        "best_accuracy = results[best_model_name]['accuracy']\n",
        "\n",
        "print(f\"\\n🥇 BEST MODEL: {best_model_name}\")\n",
        "print(f\"🎯 BEST ACCURACY: {best_accuracy:.4f} ({best_accuracy*100:.2f}%)\")"
      ],
      "metadata": {
        "colab": {
          "base_uri": "https://localhost:8080/"
        },
        "id": "HDZmQb6bdoK7",
        "outputId": "3c1c2ef2-48fe-44f7-c2ba-a4b32f6b26aa"
      },
      "execution_count": 13,
      "outputs": [
        {
          "output_type": "stream",
          "name": "stdout",
          "text": [
            "\n",
            "📊 MODEL COMPARISON RESULTS:\n",
            "==================================================\n",
            "Gradient Boosting   : 0.8618 (86.18%)\n",
            "SVM                 : 0.8478 (84.78%)\n",
            "Random Forest       : 0.8418 (84.18%)\n",
            "KNN                 : 0.8275 (82.75%)\n",
            "Logistic Regression : 0.8230 (82.30%)\n",
            "\n",
            "🥇 BEST MODEL: Gradient Boosting\n",
            "🎯 BEST ACCURACY: 0.8618 (86.18%)\n"
          ]
        }
      ]
    },
    {
      "cell_type": "code",
      "source": [
        "plt.figure(figsize=(12, 8))\n",
        "\n",
        "\n",
        "plt.subplot(2, 2, 1)\n",
        "model_names = [result[0] for result in sorted_results]\n",
        "accuracies = [result[1]['accuracy'] for result in sorted_results]\n",
        "\n",
        "colors = ['gold' if name == best_model_name else 'skyblue' for name in model_names]\n",
        "bars = plt.bar(model_names, accuracies, color=colors)\n",
        "plt.title('Model Accuracy Comparison', fontweight='bold')\n",
        "plt.ylabel('Accuracy')\n",
        "plt.xticks(rotation=45)\n",
        "plt.ylim(0, 1)\n",
        "\n",
        "\n",
        "for bar, acc in zip(bars, accuracies):\n",
        "    plt.text(bar.get_x() + bar.get_width()/2, bar.get_height() + 0.01,\n",
        "             f'{acc:.3f}', ha='center', va='bottom', fontweight='bold')\n",
        "\n",
        "\n",
        "plt.subplot(2, 2, 2)\n",
        "cm = confusion_matrix(y_test, results[best_model_name]['y_pred'])\n",
        "sns.heatmap(cm, annot=True, fmt='d', cmap='Blues',\n",
        "           xticklabels=['<=50K', '>50K'], yticklabels=['<=50K', '>50K'])\n",
        "plt.title(f'Confusion Matrix - {best_model_name}', fontweight='bold')\n",
        "plt.xlabel('Predicted')\n",
        "plt.ylabel('Actual')\n",
        "\n",
        "\n",
        "plt.subplot(2, 2, 3)\n",
        "income_counts = data_original['income'].value_counts()\n",
        "plt.pie(income_counts.values, labels=income_counts.index, autopct='%1.1f%%', startangle=90)\n",
        "plt.title('Income Distribution in Dataset')\n",
        "\n",
        "\n",
        "plt.subplot(2, 2, 4)\n",
        "if hasattr(best_model, 'feature_importances_'):\n",
        "    feature_importance = best_model.feature_importances_\n",
        "    feature_names = X.columns\n",
        "\n",
        "\n",
        "    indices = np.argsort(feature_importance)[-10:]\n",
        "    plt.barh(range(len(indices)), feature_importance[indices])\n",
        "    plt.yticks(range(len(indices)), [feature_names[i] for i in indices])\n",
        "    plt.title(f'Top 10 Feature Importance - {best_model_name}')\n",
        "    plt.xlabel('Importance')\n",
        "else:\n",
        "    plt.text(0.5, 0.5, 'Feature importance\\nnot available for\\nthis model',\n",
        "             ha='center', va='center', transform=plt.gca().transAxes)\n",
        "    plt.title('Feature Importance')\n",
        "\n",
        "plt.tight_layout()\n",
        "plt.show()"
      ],
      "metadata": {
        "colab": {
          "base_uri": "https://localhost:8080/",
          "height": 807
        },
        "id": "xKMQrV52dv0Z",
        "outputId": "3de996fd-80de-4cea-a419-a999374d1361"
      },
      "execution_count": 14,
      "outputs": [
        {
          "output_type": "display_data",
          "data": {
            "text/plain": [
              "<Figure size 1200x800 with 5 Axes>"
            ],
            "image/png": "[encoded data removed]"
          },
          "metadata": {}
        }
      ]
    },
    {
      "cell_type": "code",
      "source": [
        "joblib.dump(best_model, 'best_salary_model.pkl')\n",
        "joblib.dump(scaler, 'feature_scaler.pkl')\n",
        "joblib.dump(label_encoders, 'label_encoders.pkl')\n",
        "joblib.dump(target_encoder, 'target_encoder.pkl')\n",
        "\n",
        "print(f\"\\n💾 Best model ({best_model_name}) saved successfully!\")\n",
        "print(\"📁 Saved files:\")\n",
        "print(\"  - best_salary_model.pkl\")\n",
        "print(\"  - feature_scaler.pkl\")\n",
        "print(\"  - label_encoders.pkl\")\n",
        "print(\"  - target_encoder.pkl\")"
      ],
      "metadata": {
        "colab": {
          "base_uri": "https://localhost:8080/"
        },
        "id": "N5g5OeP8d2y5",
        "outputId": "cb941054-eb8e-4e7f-a78d-23fe725a2b71"
      },
      "execution_count": 15,
      "outputs": [
        {
          "output_type": "stream",
          "name": "stdout",
          "text": [
            "\n",
            "💾 Best model (Gradient Boosting) saved successfully!\n",
            "📁 Saved files:\n",
            "  - best_salary_model.pkl\n",
            "  - feature_scaler.pkl\n",
            "  - label_encoders.pkl\n",
            "  - target_encoder.pkl\n"
          ]
        }
      ]
    },
    {
      "cell_type": "code",
      "source": [
        "streamlit_code = '''\n",
        "import streamlit as st\n",
        "import pandas as pd\n",
        "import numpy as np\n",
        "import joblib\n",
        "import matplotlib.pyplot as plt\n",
        "import warnings\n",
        "warnings.filterwarnings('ignore')\n",
        "\n",
        "# Page config\n",
        "st.set_page_config(page_title=\"Salary Predictor\", page_icon=\"💰\", layout=\"wide\")\n",
        "\n",
        "# Load saved models and preprocessors\n",
        "@st.cache_resource\n",
        "def load_models():\n",
        "    model = joblib.load('best_salary_model.pkl')\n",
        "    scaler = joblib.load('feature_scaler.pkl')\n",
        "    label_encoders = joblib.load('label_encoders.pkl')\n",
        "    target_encoder = joblib.load('target_encoder.pkl')\n",
        "    return model, scaler, label_encoders, target_encoder\n",
        "\n",
        "try:\n",
        "    model, scaler, label_encoders, target_encoder = load_models()\n",
        "    model_loaded = True\n",
        "except:\n",
        "    model_loaded = False\n",
        "\n",
        "# Title\n",
        "st.title(\"💰 Employee Salary Prediction App\")\n",
        "st.markdown(\"Predict whether an employee earns >50K or ≤50K\")\n",
        "\n",
        "if not model_loaded:\n",
        "    st.error(\"❌ Model files not found! Please run the training code first.\")\n",
        "else:\n",
        "    st.success(\"✅ Model loaded successfully!\")\n",
        "\n",
        "    # Sidebar inputs\n",
        "    st.sidebar.header(\"👤 Employee Information\")\n",
        "\n",
        "    # Input fields (adjust based on your dataset columns)\n",
        "    age = st.sidebar.slider(\"Age\", 17, 90, 35)\n",
        "\n",
        "    workclass = st.sidebar.selectbox(\"Work Class\",\n",
        "        ['Private', 'Self-emp-not-inc', 'Self-emp-inc', 'Federal-gov', 'Local-gov', 'State-gov', 'Others'])\n",
        "\n",
        "    education = st.sidebar.selectbox(\"Education\",\n",
        "        ['Bachelors', 'HS-grad', 'Masters', 'Some-college', 'Assoc-voc', 'Doctorate', '11th', '9th', '7th-8th', '12th', '10th', 'Assoc-acdm', 'Prof-school'])\n",
        "\n",
        "    marital_status = st.sidebar.selectbox(\"Marital Status\",\n",
        "        ['Married-civ-spouse', 'Never-married', 'Divorced', 'Separated', 'Widowed', 'Married-spouse-absent', 'Married-AF-spouse'])\n",
        "\n",
        "    occupation = st.sidebar.selectbox(\"Occupation\",\n",
        "        ['Tech-support', 'Craft-repair', 'Others', 'Sales', 'Exec-managerial', 'Prof-specialty', 'Handlers-cleaners', 'Machine-op-inspct', 'Adm-clerical', 'Farming-fishing', 'Transport-moving', 'Priv-house-serv', 'Protective-serv', 'Armed-Forces'])\n",
        "\n",
        "    relationship = st.sidebar.selectbox(\"Relationship\",\n",
        "        ['Husband', 'Not-in-family', 'Wife', 'Own-child', 'Unmarried', 'Other-relative'])\n",
        "\n",
        "    race = st.sidebar.selectbox(\"Race\",\n",
        "        ['White', 'Black', 'Asian-Pac-Islander', 'Amer-Indian-Eskimo', 'Other'])\n",
        "\n",
        "    sex = st.sidebar.selectbox(\"Gender\", ['Male', 'Female'])\n",
        "\n",
        "    hours_per_week = st.sidebar.slider(\"Hours per Week\", 1, 99, 40)\n",
        "\n",
        "    native_country = st.sidebar.selectbox(\"Native Country\",\n",
        "        ['United-States', 'Others'])\n",
        "\n",
        "    # Additional fields that might be in your dataset\n",
        "    education_num = st.sidebar.slider(\"Education Years\", 1, 16, 10)\n",
        "    capital_gain = st.sidebar.number_input(\"Capital Gain\", 0, 99999, 0)\n",
        "    capital_loss = st.sidebar.number_input(\"Capital Loss\", 0, 4356, 0)\n",
        "\n",
        "    # Main area\n",
        "    col1, col2 = st.columns([2, 1])\n",
        "\n",
        "    with col1:\n",
        "        st.subheader(\"📊 Input Summary\")\n",
        "\n",
        "        input_data = {\n",
        "            'Age': age,\n",
        "            'Work Class': workclass,\n",
        "            'Education': education,\n",
        "            'Education Years': education_num,\n",
        "            'Marital Status': marital_status,\n",
        "            'Occupation': occupation,\n",
        "            'Relationship': relationship,\n",
        "            'Race': race,\n",
        "            'Gender': sex,\n",
        "            'Capital Gain': capital_gain,\n",
        "            'Capital Loss': capital_loss,\n",
        "            'Hours per Week': hours_per_week,\n",
        "            'Native Country': native_country\n",
        "        }\n",
        "\n",
        "        # Display input data\n",
        "        input_df = pd.DataFrame(list(input_data.items()), columns=['Feature', 'Value'])\n",
        "        st.dataframe(input_df, use_container_width=True)\n",
        "\n",
        "    with col2:\n",
        "        st.subheader(\"🎯 Prediction\")\n",
        "\n",
        "        if st.button(\"🔮 Predict Salary\", type=\"primary\"):\n",
        "            try:\n",
        "                # Prepare input for prediction (adjust column names to match your dataset)\n",
        "                prediction_input = pd.DataFrame({\n",
        "                    'age': [age],\n",
        "                    'workclass': [workclass],\n",
        "                    'education': [education],\n",
        "                    'education-num': [education_num],\n",
        "                    'marital-status': [marital_status],\n",
        "                    'occupation': [occupation],\n",
        "                    'relationship': [relationship],\n",
        "                    'race': [race],\n",
        "                    'sex': [sex],\n",
        "                    'capital-gain': [capital_gain],\n",
        "                    'capital-loss': [capital_loss],\n",
        "                    'hours-per-week': [hours_per_week],\n",
        "                    'native-country': [native_country]\n",
        "                })\n",
        "\n",
        "                # Encode categorical variables\n",
        "                for column in prediction_input.columns:\n",
        "                    if column in label_encoders:\n",
        "                        le = label_encoders[column]\n",
        "                        try:\n",
        "                            prediction_input[column] = le.transform(prediction_input[column].astype(str))\n",
        "                        except ValueError:\n",
        "                            # Handle unseen categories\n",
        "                            prediction_input[column] = 0\n",
        "\n",
        "                # Scale features\n",
        "                input_scaled = scaler.transform(prediction_input)\n",
        "\n",
        "                # Make prediction\n",
        "                prediction = model.predict(input_scaled)[0]\n",
        "                probability = model.predict_proba(input_scaled)[0]\n",
        "\n",
        "                # Convert prediction back to original label\n",
        "                prediction_label = target_encoder.inverse_transform([prediction])[0]\n",
        "\n",
        "                # Display result\n",
        "                if prediction_label == '>50K':\n",
        "                    st.success(f\"💰 **{prediction_label}**\")\n",
        "                    st.info(f\"Confidence: {probability[prediction]:.1%}\")\n",
        "                    st.balloons()\n",
        "                else:\n",
        "                    st.info(f\"💼 **{prediction_label}**\")\n",
        "                    st.info(f\"Confidence: {probability[prediction]:.1%}\")\n",
        "\n",
        "                # Show probability chart\n",
        "                fig, ax = plt.subplots(figsize=(6, 4))\n",
        "                labels = target_encoder.classes_\n",
        "                ax.bar(labels, probability, color=['lightcoral', 'lightgreen'])\n",
        "                ax.set_title('Prediction Probabilities')\n",
        "                ax.set_ylabel('Probability')\n",
        "                for i, v in enumerate(probability):\n",
        "                    ax.text(i, v + 0.02, f'{v:.1%}', ha='center', fontweight='bold')\n",
        "                st.pyplot(fig)\n",
        "\n",
        "            except Exception as e:\n",
        "                st.error(f\"❌ Prediction error: {str(e)}\")\n",
        "\n",
        "    # File upload for batch predictions\n",
        "    st.markdown(\"---\")\n",
        "    st.subheader(\"📂 Batch Prediction\")\n",
        "\n",
        "    uploaded_file = st.file_uploader(\"Upload CSV file for batch predictions\", type=\"csv\")\n",
        "\n",
        "    if uploaded_file is not None:\n",
        "        batch_data = pd.read_csv(uploaded_file)\n",
        "        st.write(\"**Data Preview:**\")\n",
        "        st.dataframe(batch_data.head())\n",
        "\n",
        "        if st.button(\"🚀 Predict All\"):\n",
        "            # Add batch prediction logic here\n",
        "            st.info(\"Batch prediction feature - implement based on your specific needs!\")\n",
        "'''\n",
        "\n",
        "\n",
        "with open('streamlit_app.py', 'w', encoding='utf-8') as f:\n",
        "    f.write(streamlit_code)\n",
        "\n",
        "print(\"\\n✅ Streamlit app created: streamlit_app.py\")"
      ],
      "metadata": {
        "colab": {
          "base_uri": "https://localhost:8080/"
        },
        "id": "D-LzpClhd7TQ",
        "outputId": "b2e24957-dbca-48c5-9800-951e99113cd3"
      },
      "execution_count": 16,
      "outputs": [
        {
          "output_type": "stream",
          "name": "stdout",
          "text": [
            "\n",
            "✅ Streamlit app created: streamlit_app.py\n"
          ]
        }
      ]
    },
    {
      "cell_type": "code",
      "source": [
        "!streamlit run streamlit_app.py"
      ],
      "metadata": {
        "colab": {
          "base_uri": "https://localhost:8080/"
        },
        "id": "tVYefsrDekOr",
        "outputId": "f343a48b-a1a7-48c2-b358-c37341bddc2e"
      },
      "execution_count": null,
      "outputs": [
        {
          "output_type": "stream",
          "name": "stdout",
          "text": [
            "\n",
            "Collecting usage statistics. To deactivate, set browser.gatherUsageStats to false.\n",
            "\u001b[0m\n",
            "\u001b[0m\n",
            "\u001b[34m\u001b[1m  You can now view your Streamlit app in your browser.\u001b[0m\n",
            "\u001b[0m\n",
            "\u001b[34m  Local URL: \u001b[0m\u001b[1mhttp://localhost:8501\u001b[0m\n",
            "\u001b[34m  Network URL: \u001b[0m\u001b[1mhttp://172.28.0.12:8501\u001b[0m\n",
            "\u001b[34m  External URL: \u001b[0m\u001b[1mhttp://35.224.251.56:8501\u001b[0m\n",
            "\u001b[0m\n"
          ]
        }
      ]
    }
  ]
}